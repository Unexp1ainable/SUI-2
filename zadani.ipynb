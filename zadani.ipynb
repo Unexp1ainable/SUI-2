{
 "cells": [
  {
   "cell_type": "markdown",
   "metadata": {},
   "source": [
    "Vítejte u druhého projektu do SUI.\n",
    "V rámci projektu Vás čeká několik cvičení, v nichž budete doplňovat poměrně malé fragmenty kódu (místo je vyznačeno pomocí `None` nebo `pass`).\n",
    "Pokud se v buňce s kódem již něco nachází, využijte/neničte to.\n",
    "Buňky nerušte ani nepřidávejte.\n",
    "\n",
    "Až budete s řešením hotovi, vyexportujte ho (\"Download as\") jako PDF i pythonovský skript a ty odevzdejte pojmenované názvem týmu (tj. loginem vedoucího).\n",
    "Dbejte, aby bylo v PDF všechno vidět (nezůstal kód za okrajem stránky apod.).\n",
    "\n",
    "U všech cvičení je uveden orientační počet řádků řešení.\n",
    "Berte ho prosím opravdu jako orientační, pozornost mu věnujte, pouze pokud ho významně překračujete."
   ]
  },
  {
   "cell_type": "code",
   "execution_count": 137,
   "metadata": {},
   "outputs": [],
   "source": [
    "import numpy as np\n",
    "import copy\n",
    "import matplotlib.pyplot as plt\n",
    "import scipy.stats"
   ]
  },
  {
   "cell_type": "markdown",
   "metadata": {},
   "source": [
    "# Přípravné práce\n",
    "Prvním úkolem v tomto projektu je načíst data, s nimiž budete pracovat.\n",
    "Vybudujte jednoduchou třídu, která se umí zkonstruovat z cesty k negativním a pozitivním příkladům, a bude poskytovat:\n",
    "- pozitivní a negativní příklady (`dataset.pos`, `dataset.neg` o rozměrech [N, 7])\n",
    "- všechny příklady a odpovídající třídy (`dataset.xs` o rozměru [N, 7], `dataset.targets` o rozměru [N])\n",
    "\n",
    "K načítání dat doporučujeme využít `np.loadtxt()`.\n",
    "Netrapte se se zapouzdřováním a gettery, berte třídu jako Plain Old Data.\n",
    "\n",
    "Načtěte trénovací (`{positives,negatives}.trn`), validační (`{positives,negatives}.val`) a testovací (`{positives,negatives}.tst`) dataset, pojmenujte je po řadě `train_dataset`, `val_dataset` a `test_dataset`. \n",
    "\n",
    "**(6 řádků)** \n"
   ]
  },
  {
   "cell_type": "code",
   "execution_count": 138,
   "metadata": {},
   "outputs": [
    {
     "name": "stdout",
     "output_type": "stream",
     "text": [
      "positives (2280, 7)\n",
      "negatives (6841, 7)\n",
      "xs (9121, 7)\n",
      "targets (9121,)\n"
     ]
    }
   ],
   "source": [
    "class BinaryDataset:\n",
    "    def __init__(self, positives_path: str, negatives_path: str):\n",
    "        self.pos = np.loadtxt(positives_path)\n",
    "        self.neg = np.loadtxt(negatives_path)\n",
    "        self.xs = np.r_[self.pos, self.neg]\n",
    "        self.targets = np.r_[np.ones(len(self.pos)), np.zeros(len(self.neg))]\n",
    "\n",
    "train_dataset = BinaryDataset('positives.trn', 'negatives.trn')\n",
    "val_dataset = BinaryDataset('positives.val', 'negatives.val')\n",
    "test_dataset = BinaryDataset('positives.tst', 'negatives.tst')\n",
    "\n",
    "print('positives', train_dataset.pos.shape)\n",
    "print('negatives', train_dataset.neg.shape)\n",
    "print('xs', train_dataset.xs.shape)\n",
    "print('targets', train_dataset.targets.shape)"
   ]
  },
  {
   "cell_type": "markdown",
   "metadata": {},
   "source": [
    "V řadě následujících cvičení budete pracovat s jedním konkrétním příznakem. Naimplementujte proto funkci, která vykreslí histogram rozložení pozitivních a negativních příkladů z jedné sady. Nezapomeňte na legendu, ať je v grafu jasné, které jsou které. Funkci zavoláte dvakrát, vykreslete histogram příznaku `5` -- tzn. šestého ze sedmi -- pro trénovací a validační data\n",
    "\n",
    "**(5 řádků)**"
   ]
  },
  {
   "cell_type": "code",
   "execution_count": 139,
   "metadata": {},
   "outputs": [
    {
     "data": {
      "image/png": "[encoded data removed]",
      "text/plain": [
       "<Figure size 432x288 with 1 Axes>"
      ]
     },
     "metadata": {
      "needs_background": "light"
     },
     "output_type": "display_data"
    },
    {
     "data": {
      "image/png": "[encoded data removed]",
      "text/plain": [
       "<Figure size 432x288 with 1 Axes>"
      ]
     },
     "metadata": {
      "needs_background": "light"
     },
     "output_type": "display_data"
    },
    {
     "data": {
      "text/plain": [
       "<Figure size 432x288 with 0 Axes>"
      ]
     },
     "metadata": {},
     "output_type": "display_data"
    }
   ],
   "source": [
    "FOI = 5  # Feature Of Interest\n",
    "\n",
    "def plot_data(poss, negs):\n",
    "    plt.hist([poss, negs], 20, histtype=\"step\",label=[\"Positives\", \"Negatives\"])\n",
    "    plt.legend()\n",
    "    plt.figure()\n",
    "\n",
    "plot_data(train_dataset.pos[:, FOI], train_dataset.neg[:, FOI])\n",
    "plot_data(val_dataset.pos[:, FOI], val_dataset.neg[:, FOI])"
   ]
  },
  {
   "cell_type": "markdown",
   "metadata": {},
   "source": [
    "### Evaluace klasifikátorů\n",
    "Než přistoupíte k tvorbě jednotlivých klasifikátorů, vytvořte funkci pro jejich vyhodnocování.\n",
    "Nechť se jmenuje `evaluate` a přijímá po řadě klasifikátor, pole dat (o rozměrech [N, F]) a pole tříd ([N]).\n",
    "Jejím výstupem bude _přesnost_ (accuracy), tzn. podíl správně klasifikovaných příkladů.\n",
    "\n",
    "Předpokládejte, že klasifikátor poskytuje metodu `.prob_class_1(data)`, která vrací pole posteriorních pravděpodobností třídy 1 pro daná data.\n",
    "Evaluační funkce bude muset provést tvrdé prahování (na hodnotě 0.5) těchto pravděpodobností a srovnání získaných rozhodnutí s referenčními třídami.\n",
    "Využijte fakt, že `numpy`ovská pole lze mj. porovnávat se skalárem.\n",
    "\n",
    "**(3 řádky)**"
   ]
  },
  {
   "cell_type": "code",
   "execution_count": 140,
   "metadata": {},
   "outputs": [
    {
     "name": "stdout",
     "output_type": "stream",
     "text": [
      "0.6666666666666666\n"
     ]
    }
   ],
   "source": [
    "def evaluate(classifier, inputs, targets):\n",
    "    thresholded = classifier.prob_class_1(inputs) > 0.5\n",
    "    res = thresholded == targets\n",
    "    return np.sum(res) / len(targets)\n",
    "\n",
    "\n",
    "class Dummy:\n",
    "    def prob_class_1(self, xs):\n",
    "        return np.asarray([0.2, 0.7, 0.7])\n",
    "\n",
    "print(evaluate(Dummy(), None, np.asarray([0, 0, 1])))  # should be 0.66"
   ]
  },
  {
   "cell_type": "markdown",
   "metadata": {},
   "source": [
    "### Baseline\n",
    "Vytvořte klasifikátor, který ignoruje vstupní data.\n",
    "Jenom v konstruktoru dostane třídu, kterou má dávat jako tip pro libovolný vstup.\n",
    "Nezapomeňte, že jeho metoda `.prob_class_1(data)` musí vracet pole správné velikosti.\n",
    "\n",
    "**(4 řádky)**"
   ]
  },
  {
   "cell_type": "code",
   "execution_count": 141,
   "metadata": {},
   "outputs": [
    {
     "name": "stdout",
     "output_type": "stream",
     "text": [
      "Baseline val acc: 0.75\n"
     ]
    }
   ],
   "source": [
    "class PriorClassifier:\n",
    "    def __init__(self, sth) -> None:\n",
    "        self.sth = sth\n",
    "\n",
    "    def prob_class_1(self, data):\n",
    "        return np.full(data.shape, self.sth)\n",
    "\n",
    "baseline = PriorClassifier(0)\n",
    "val_acc = evaluate(baseline, val_dataset.xs[:, FOI], val_dataset.targets)\n",
    "print('Baseline val acc:', val_acc)"
   ]
  },
  {
   "cell_type": "markdown",
   "metadata": {},
   "source": [
    "# Generativní klasifikátory\n",
    "V této  části vytvoříte dva generativní klasifikátory, oba založené na Gaussovu rozložení pravděpodobnosti.\n",
    "\n",
    "Začněte implementací funce, která pro daná 1-D data vrátí Maximum Likelihood odhad střední hodnoty a směrodatné odchylky Gaussova rozložení, které data modeluje.\n",
    "Funkci využijte pro natrénovaní dvou modelů: pozitivních a negativních příkladů.\n",
    "Získané parametry -- tzn. střední hodnoty a směrodatné odchylky -- vypíšete.\n",
    "\n",
    "**(1 řádek)**"
   ]
  },
  {
   "cell_type": "code",
   "execution_count": 142,
   "metadata": {},
   "outputs": [
    {
     "name": "stdout",
     "output_type": "stream",
     "text": [
      "Pos mean: 0.48 std: 0.13\n",
      "Neg mean: 0.17 std: 0.18\n"
     ]
    }
   ],
   "source": [
    "def mle_gauss_1d(data):\n",
    "    return np.mean(data), np.std(data)\n",
    "\n",
    "mu_pos, std_pos = mle_gauss_1d(train_dataset.pos[:, FOI])\n",
    "mu_neg, std_neg = mle_gauss_1d(train_dataset.neg[:, FOI])\n",
    "\n",
    "print('Pos mean: {:.2f} std: {:.2f}'.format(mu_pos, std_pos))\n",
    "print('Neg mean: {:.2f} std: {:.2f}'.format(mu_neg, std_neg))"
   ]
  },
  {
   "cell_type": "markdown",
   "metadata": {},
   "source": [
    "Ze získaných parametrů vytvořte `scipy`ovská gaussovská rozložení `scipy.stats.norm`.\n",
    "S využitím jejich metody `.pdf()` vytvořte graf, v němž srovnáte skutečné a modelové rozložení pozitivních a negativních příkladů.\n",
    "Rozsah x-ové osy volte od -0.5 do 1.5 (využijte `np.linspace`) a u volání `plt.hist()` nezapomeňte nastavit `density=True`, aby byl histogram normalizovaný a dal se srovnávat s modelem.\n",
    "\n",
    "**(2 + 8 řádků)**"
   ]
  },
  {
   "cell_type": "code",
   "execution_count": 143,
   "metadata": {},
   "outputs": [
    {
     "data": {
      "text/plain": [
       "<Figure size 432x288 with 0 Axes>"
      ]
     },
     "execution_count": 143,
     "metadata": {},
     "output_type": "execute_result"
    },
    {
     "data": {
      "image/png": "[encoded data removed]",
      "text/plain": [
       "<Figure size 432x288 with 1 Axes>"
      ]
     },
     "metadata": {
      "needs_background": "light"
     },
     "output_type": "display_data"
    },
    {
     "data": {
      "image/png": "[encoded data removed]",
      "text/plain": [
       "<Figure size 432x288 with 1 Axes>"
      ]
     },
     "metadata": {
      "needs_background": "light"
     },
     "output_type": "display_data"
    },
    {
     "data": {
      "text/plain": [
       "<Figure size 432x288 with 0 Axes>"
      ]
     },
     "metadata": {},
     "output_type": "display_data"
    }
   ],
   "source": [
    "from cProfile import label\n",
    "\n",
    "\n",
    "x = np.linspace(-0.5, 1.5, 100)\n",
    "\n",
    "g_pos = scipy.stats.norm(loc=mu_pos, scale=std_pos)\n",
    "y_pos = g_pos.pdf(x)\n",
    "\n",
    "g_neg = scipy.stats.norm(loc=mu_neg, scale=std_neg)\n",
    "y_neg = g_neg.pdf(x)\n",
    "\n",
    "datap = train_dataset.pos[:, FOI]\n",
    "datan = train_dataset.neg[:, FOI]\n",
    "\n",
    "plt.title(\"Positive\")\n",
    "_ =plt.hist(datap, 20, histtype=\"step\", density=True, label=\"data\")\n",
    "_ = plt.plot(x, y_pos, label=\"model\")\n",
    "plt.legend()\n",
    "plt.figure()\n",
    "plt.title(\"Negative\")\n",
    "_ =plt.hist(datan, 20, histtype=\"step\", density=True, label=\"data\")\n",
    "_ = plt.plot(x, y_neg, label=\"model\")\n",
    "plt.legend()\n",
    "plt.figure()\n"
   ]
  },
  {
   "cell_type": "markdown",
   "metadata": {},
   "source": [
    "Naimplementujte binární generativní klasifikátor. \n",
    "Při konstrukci přijímá dvě rozložení poskytující metodu `.pdf()` a odpovídající apriorní pravděpodobnost tříd.\n",
    "Dbejte, aby Vám uživatel nemohl zadat neplatné apriorní pravděpodobnosti.\n",
    "Jako všechny klasifikátory v tomto projektu poskytuje metodu `prob_class_1()`.\n",
    "\n",
    "**(9 řádků)**"
   ]
  },
  {
   "cell_type": "code",
   "execution_count": 144,
   "metadata": {},
   "outputs": [],
   "source": [
    "class GenerativeClassifier2Class:\n",
    "    def __init__(self, dist_pos, dist_neg, p_pos, p_neg) -> None:\n",
    "        if not (0 <= p_pos <= 1) or not (0 <= p_neg <= 1) or p_pos+p_neg-1 > 0.00000001:\n",
    "            raise ValueError\n",
    "\n",
    "        self.dist_pos = dist_pos\n",
    "        self.dist_neg = dist_neg\n",
    "        self.p_pos = p_pos\n",
    "        self.p_neg = p_neg\n",
    "\n",
    "    def prob_class_1(self, data):\n",
    "        r = []\n",
    "        for item in data:\n",
    "            pc1 = self.p_pos\n",
    "            pxc1 = self.dist_pos.pdf(item)\n",
    "            pxc2 = self.dist_neg.pdf(item)\n",
    "            px = pxc1*self.p_pos + pxc2*self.p_neg\n",
    "            # px = pxc1 + pxc2\n",
    "            # print(px)\n",
    "            r.append(pxc1*pc1/px)\n",
    "\n",
    "        return np.array(r)\n"
   ]
  },
  {
   "cell_type": "markdown",
   "metadata": {},
   "source": [
    "Nainstancujte dva generativní klasifikátory: jeden s rovnoměrnými priory a jeden s apriorní pravděpodobností 0.75 pro třídu 0 (negativní příklady).\n",
    "Pomocí funkce `evaluate()` vyhodnotíte jejich úspěšnost na validačních datech.\n",
    "\n",
    "**(2 řádky)**"
   ]
  },
  {
   "cell_type": "code",
   "execution_count": 145,
   "metadata": {},
   "outputs": [
    {
     "name": "stdout",
     "output_type": "stream",
     "text": [
      "flat: 0.809\n",
      "full: 0.8475\n"
     ]
    }
   ],
   "source": [
    "classifier_flat_prior = GenerativeClassifier2Class(g_pos, g_neg, 0.5, 0.5)\n",
    "classifier_full_prior = GenerativeClassifier2Class(g_pos, g_neg, 0.25, 0.75)\n",
    "\n",
    "print('flat:', evaluate(classifier_flat_prior, val_dataset.xs[:, FOI], val_dataset.targets))\n",
    "print('full:', evaluate(classifier_full_prior, val_dataset.xs[:, FOI], val_dataset.targets))\n"
   ]
  },
  {
   "cell_type": "markdown",
   "metadata": {},
   "source": [
    "Vykreslete průběh posteriorní pravděpodobnosti třídy 1 jako funkci příznaku 5, opět v rozsahu <-0.5; 1.5> pro oba klasifikátory.\n",
    "Do grafu zakreslete i histogramy rozložení trénovacích dat, opět s `density=True` pro zachování dynamického rozsahu.\n",
    "\n",
    "**(8 řádků)**"
   ]
  },
  {
   "cell_type": "code",
   "execution_count": 146,
   "metadata": {},
   "outputs": [
    {
     "data": {
      "text/plain": [
       "<Figure size 432x288 with 0 Axes>"
      ]
     },
     "execution_count": 146,
     "metadata": {},
     "output_type": "execute_result"
    },
    {
     "data": {
      "image/png": "[encoded data removed]",
      "text/plain": [
       "<Figure size 432x288 with 1 Axes>"
      ]
     },
     "metadata": {
      "needs_background": "light"
     },
     "output_type": "display_data"
    },
    {
     "data": {
      "image/png": "[encoded data removed]",
      "text/plain": [
       "<Figure size 432x288 with 1 Axes>"
      ]
     },
     "metadata": {
      "needs_background": "light"
     },
     "output_type": "display_data"
    },
    {
     "data": {
      "text/plain": [
       "<Figure size 432x288 with 0 Axes>"
      ]
     },
     "metadata": {},
     "output_type": "display_data"
    }
   ],
   "source": [
    "plt.plot(np.arange(-0.5, 1.5, 0.001), classifier_flat_prior.prob_class_1(np.arange(-0.5, 1.5, 0.001)))\n",
    "plt.hist(train_dataset.pos[:, FOI], 20, density=True)\n",
    "plt.hist(train_dataset.neg[:, FOI], 20, density=True)\n",
    "plt.figure()\n",
    "\n",
    "plt.plot(np.arange(-0.5, 1.5, 0.001), classifier_full_prior.prob_class_1(np.arange(-0.5, 1.5, 0.001)))\n",
    "plt.hist(train_dataset.pos[:, FOI], 20, density=True)\n",
    "plt.hist(train_dataset.neg[:, FOI], 20, density=True)\n",
    "plt.figure()\n"
   ]
  },
  {
   "cell_type": "markdown",
   "metadata": {},
   "source": [
    "# Diskriminativní klasifikátory\n",
    "V následující části budete pomocí (lineární) logistické regrese přímo modelovat posteriorní pravděpodobnost třídy 1.\n",
    "Modely budou založeny čistě na NumPy, takže nemusíte instalovat nic dalšího.\n",
    "Nabitějších toolkitů se dočkáte ve třetím projektu."
   ]
  },
  {
   "cell_type": "code",
   "execution_count": 147,
   "metadata": {},
   "outputs": [],
   "source": [
    "def logistic_sigmoid(x):\n",
    "    return np.exp(-np.logaddexp(0, -x))\n",
    "\n",
    "def binary_cross_entropy(probs, targets):\n",
    "    return np.sum(-targets * np.log(probs) - (1-targets)*np.log(1-probs)) \n",
    "\n",
    "class LogisticRegressionNumpy:\n",
    "    def __init__(self, dim):\n",
    "        self.w = np.array([0.0] * dim)\n",
    "        self.b = np.array([0.0])\n",
    "        \n",
    "    def prob_class_1(self, x):\n",
    "        return logistic_sigmoid(x @ self.w + self.b)"
   ]
  },
  {
   "cell_type": "markdown",
   "metadata": {},
   "source": [
    "Diskriminativní klasifikátor očekává, že dostane vstup ve tvaru `[N, F]`.\n",
    "Pro práci na jediném příznaku bude tedy zapotřebí vyřezávat příslušná data v správném formátu (`[N, 1]`). \n",
    "Doimplementujte třídu `FeatureCutter` tak, aby to zařizovalo volání její instance.\n",
    "Který příznak se použije, nechť je konfigurováno při konstrukci.\n",
    "\n",
    "Může se Vám hodit `np.newaxis`.\n",
    "\n",
    "**(2 řádky)**"
   ]
  },
  {
   "cell_type": "code",
   "execution_count": 148,
   "metadata": {},
   "outputs": [],
   "source": [
    "class FeatureCutter:\n",
    "    def __init__(self, fea_id):\n",
    "        self.id = fea_id\n",
    "        \n",
    "    def __call__(self, x):\n",
    "        return np.array([x[...,self.id]]).T"
   ]
  },
  {
   "cell_type": "markdown",
   "metadata": {},
   "source": [
    "Dalším krokem je implementovat funkci, která model vytvoří a natrénuje.\n",
    "Jejím výstupem bude (1) natrénovaný model, (2) průběh trénovací loss a (3) průběh validační přesnosti.\n",
    "Neuvažujte žádné minibatche, aktualizujte váhy vždy na celém trénovacím datasetu.\n",
    "Po každém kroku vyhodnoťte model na validačních datech.\n",
    "Jako model vracejte ten, který dosáhne nejlepší validační přesnosti.\n",
    "Jako loss použijte binární cross-entropii  a logujte průměr na vzorek.\n",
    "Pro výpočet validační přesnosti využijte funkci `evaluate()`.\n",
    "Oba průběhy vracejte jako obyčejné seznamy.\n",
    "\n",
    "Doporučujeme dělit efektivní learning rate počtem vzorků, na nichž je počítana loss.\n",
    "\n",
    "**(cca 11 řádků)**"
   ]
  },
  {
   "cell_type": "code",
   "execution_count": 149,
   "metadata": {},
   "outputs": [],
   "source": [
    "def train_logistic_regression(nb_epochs, lr, in_dim, fea_preprocessor):\n",
    "    model = LogisticRegressionNumpy(in_dim)\n",
    "    best_model = copy.deepcopy(model)\n",
    "    best_eval_rate = 0\n",
    "    losses = []\n",
    "    accuracies = []\n",
    "    \n",
    "    train_X = fea_preprocessor(train_dataset.xs)\n",
    "    train_t = train_dataset.targets\n",
    "\n",
    "    val_X = fea_preprocessor(val_dataset.xs)\n",
    "    val_t = val_dataset.targets\n",
    "\n",
    "    N = train_X.shape[0]\n",
    "\n",
    "    for epoch in range(nb_epochs):\n",
    "        grad_w_sum = grad_b_sum = 0\n",
    "\n",
    "        sigm_out = model.prob_class_1(train_X)\n",
    "        grad_w_sum = np.sum((sigm_out - train_t)*train_X.T)\n",
    "        grad_b_sum = np.sum(sigm_out - train_t)\n",
    "        \n",
    "        elr = lr\n",
    "        model.w -= grad_w_sum*elr\n",
    "        model.b -= grad_b_sum*elr\n",
    "        eval_rate = evaluate(model, val_X, val_t)\n",
    "        accuracies.append(eval_rate)\n",
    "\n",
    "        err = binary_cross_entropy(sigm_out, train_t)/N\n",
    "        losses.append(err)\n",
    "        if eval_rate > best_eval_rate:\n",
    "            best_model = copy.deepcopy(model)\n",
    "        \n",
    "    return best_model, losses, accuracies"
   ]
  },
  {
   "cell_type": "markdown",
   "metadata": {},
   "source": [
    "Funkci zavolejte a natrénujte model.\n",
    "Uveďte zde parametry, které vám dají slušný výsledek.\n",
    "Měli byste dostat přesnost srovnatelnou s generativním klasifikátorem s nastavenými priory.\n",
    "Neměli byste potřebovat víc, než 100 epoch.\n",
    "Vykreslete průběh trénovací loss a validační přesnosti, osu x značte v epochách.\n",
    "\n",
    "V druhém grafu vykreslete histogramy trénovacích dat a pravděpodobnost třídy 1 pro x od -0.5 do 1.5, podobně jako výše u generativních klasifikátorů.\n",
    "\n",
    "**(1 + 5 + 8 řádků)**"
   ]
  },
  {
   "cell_type": "code",
   "execution_count": 150,
   "metadata": {},
   "outputs": [
    {
     "name": "stdout",
     "output_type": "stream",
     "text": [
      "w 9.046910368160999 b -4.108610131463702\n",
      "disc_fea5: 0.8435\n"
     ]
    },
    {
     "data": {
      "image/png": "[encoded data removed]",
      "text/plain": [
       "<Figure size 432x288 with 1 Axes>"
      ]
     },
     "metadata": {
      "needs_background": "light"
     },
     "output_type": "display_data"
    },
    {
     "data": {
      "image/png": "[encoded data removed]",
      "text/plain": [
       "<Figure size 432x288 with 1 Axes>"
      ]
     },
     "metadata": {
      "needs_background": "light"
     },
     "output_type": "display_data"
    },
    {
     "data": {
      "text/plain": [
       "<Figure size 432x288 with 0 Axes>"
      ]
     },
     "metadata": {},
     "output_type": "display_data"
    }
   ],
   "source": [
    "num_epochs = 100\n",
    "lr = 0.001\n",
    "in_dim = 1\n",
    "fc = FeatureCutter(FOI)\n",
    "disc_fea5, losses, accuracies = train_logistic_regression(num_epochs, lr, in_dim, fc)\n",
    "\n",
    "print('w', disc_fea5.w.item(), 'b', disc_fea5.b.item())\n",
    "\n",
    "plt.plot( accuracies, label=\"Accuracies\")\n",
    "plt.plot(losses, label=\"Losses\")\n",
    "plt.legend()\n",
    "plt.figure()\n",
    "\n",
    "plt.plot(np.arange(-0.5, 1.5, 0.001),disc_fea5.prob_class_1(np.vstack(np.arange(-0.5, 1.5, 0.001))) )\n",
    "\n",
    "plt.hist(train_dataset.pos[:, FOI], 20, density=True)\n",
    "plt.hist(train_dataset.neg[:, FOI], 20, density=True)\n",
    "plt.figure()\n",
    "\n",
    "\n",
    "print('disc_fea5:', evaluate(disc_fea5, val_dataset.xs[:, FOI][:, np.newaxis], val_dataset.targets))"
   ]
  },
  {
   "cell_type": "markdown",
   "metadata": {},
   "source": [
    "## Všechny vstupní příznaky\n",
    "V posledním cvičení natrénujete logistickou regresi, která využije všechn sedm vstupních příznaků.\n",
    "Zavolejte funkci z předchozího cvičení, opět vykreslete průběh trénovací loss a validační přesnosti.\n",
    "Měli byste se dostat nad 90 % přesnosti.\n",
    "\n",
    "Může se Vám hodit `lambda` funkce.\n",
    "\n",
    "**(1 + 5 řádků)**"
   ]
  },
  {
   "cell_type": "code",
   "execution_count": 151,
   "metadata": {},
   "outputs": [
    {
     "data": {
      "text/plain": [
       "<Figure size 432x288 with 0 Axes>"
      ]
     },
     "execution_count": 151,
     "metadata": {},
     "output_type": "execute_result"
    },
    {
     "data": {
      "image/png": "[encoded data removed]",
      "text/plain": [
       "<Figure size 432x288 with 1 Axes>"
      ]
     },
     "metadata": {
      "needs_background": "light"
     },
     "output_type": "display_data"
    },
    {
     "data": {
      "text/plain": [
       "<Figure size 432x288 with 0 Axes>"
      ]
     },
     "metadata": {},
     "output_type": "display_data"
    }
   ],
   "source": [
    "num_epochs = 10000\n",
    "lr = 0.0000001\n",
    "in_dim = 7\n",
    "empty_fc = lambda x : x\n",
    "disc_full_fea, losses, accuracies = train_logistic_regression(num_epochs, lr, in_dim, empty_fc)\n",
    "\n",
    "\n",
    "plt.plot( accuracies, label=\"Accuracies\")\n",
    "plt.plot(losses, label=\"Losses\")\n",
    "plt.legend()\n",
    "plt.figure()\n"
   ]
  },
  {
   "cell_type": "markdown",
   "metadata": {},
   "source": [
    "# Závěrem\n",
    "Konečně vyhodnoťte všech pět vytvořených klasifikátorů na testovacích datech.\n",
    "Stačí doplnit jejich názvy a předat jim odpovídající příznaky.\n",
    "Nezapomeňte, že u logistické regrese musíte zopakovat formátovací krok z `FeatureCutter`u."
   ]
  },
  {
   "cell_type": "code",
   "execution_count": 158,
   "metadata": {},
   "outputs": [
    {
     "name": "stdout",
     "output_type": "stream",
     "text": [
      "(2000, 7) (2000,)\n",
      "Baseline: 0.75\n",
      "Generative classifier (w/o prior): 0.8\n",
      "Generative classifier (correct): 0.847\n",
      "Logistic regression: 0.856\n",
      "logistic regression all features: 0.945\n"
     ]
    }
   ],
   "source": [
    "xs_full = test_dataset.xs\n",
    "xs_foi = test_dataset.xs[:, FOI]\n",
    "targets = test_dataset.targets\n",
    "fc = FeatureCutter(FOI)\n",
    "\n",
    "print('Baseline:', evaluate(baseline, xs_foi, targets))\n",
    "print('Generative classifier (w/o prior):', evaluate(classifier_flat_prior, xs_foi, targets))\n",
    "print('Generative classifier (correct):', evaluate(classifier_full_prior, xs_foi, targets))\n",
    "print('Logistic regression:', evaluate(disc_fea5, fc(xs_full), targets))\n",
    "print('logistic regression all features:', evaluate(disc_full_fea, xs_full, targets))"
   ]
  },
  {
   "cell_type": "markdown",
   "metadata": {},
   "source": [
    "Blahopřejeme ke zvládnutí projektu! Nezapomeňte spustit celý notebook načisto (Kernel -> Restart & Run all) a zkontrolovat, že všechny výpočty prošly podle očekávání.\n",
    "\n",
    "Mimochodem, vstupní data nejsou synteticky generovaná.\n",
    "Nasbírali jsme je z baseline řešení předloňského projektu; vaše klasifikátory v tomto projektu predikují, že daný hráč vyhraje dicewars, takže by se daly použít jako heuristika pro ohodnocování listových uzlů ve stavovém prostoru hry.\n",
    "Pro představu, data jsou z pozic pět kol před koncem partie pro daného hráče.\n",
    "Poskytnuté příznaky popisují globální charakteristiky stavu hry jako je například poměr délky hranic předmětného hráče k ostatním hranicím.\n",
    "Nejeden projekt v ročníku 2020 realizoval požadované \"strojové učení\" kopií domácí úlohy."
   ]
  },
  {
   "cell_type": "code",
   "execution_count": null,
   "metadata": {},
   "outputs": [],
   "source": []
  }
 ],
 "metadata": {
  "kernelspec": {
   "display_name": "Python 3.10.2 64-bit",
   "language": "python",
   "name": "python3"
  },
  "language_info": {
   "codemirror_mode": {
    "name": "ipython",
    "version": 3
   },
   "file_extension": ".py",
   "mimetype": "text/x-python",
   "name": "python",
   "nbconvert_exporter": "python",
   "pygments_lexer": "ipython3",
   "version": "3.10.2"
  },
  "vscode": {
   "interpreter": {
    "hash": "472ead7b1776aa04521243f5770be1d7b00c8cbbaccaa4bfdd2b0e3384a5e0e1"
   }
  }
 },
 "nbformat": 4,
 "nbformat_minor": 4
}
